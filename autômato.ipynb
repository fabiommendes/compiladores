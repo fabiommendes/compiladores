{
 "cells": [
  {
   "cell_type": "code",
   "execution_count": 32,
   "metadata": {},
   "outputs": [],
   "source": [
    "from collections.abc import Mapping\n",
    "\n",
    "class TransitionError(Exception):\n",
    "    \"\"\"\n",
    "    Error raised during invalid transitions.\n",
    "    \"\"\"\n",
    "\n",
    "\n",
    "class DFA:\n",
    "    \"\"\"\n",
    "    Representa um Autömato Determinístico Finito.\n",
    "    \"\"\"\n",
    "    \n",
    "    def __init__(self, start_state, accept_states, transition=None):\n",
    "        self.start_state = start_state\n",
    "        self.accept_states = set(accept_states)\n",
    "        \n",
    "        if transition is None:\n",
    "            transition = self.delta\n",
    "        if callable(transition):\n",
    "            self.delta = transition\n",
    "        elif isinstance(transition, Mapping):\n",
    "            def delta(state, symb): \n",
    "                try:\n",
    "                    return transition[state, symb]\n",
    "                except KeyError:\n",
    "                    raise TransitionError(f'No transition defined for transition: {state}, {symb}')\n",
    "                    \n",
    "            self.delta = delta\n",
    "            \n",
    "    def run_verbose(self, src):\n",
    "        \"\"\"\n",
    "        Run DFA and display its path on state space.\n",
    "        \"\"\"\n",
    "        state = self.start_state\n",
    "        delta = self.delta\n",
    "        print('DFA:', state, end='')\n",
    "        \n",
    "        for symb in src:\n",
    "            try:\n",
    "                state = delta(state, symb)\n",
    "                print(' ->', state, flush=True, end='')\n",
    "            except TransitionError:\n",
    "                print(' -> *error*')\n",
    "                return None\n",
    "        \n",
    "        print()\n",
    "        return state\n",
    "    \n",
    "    def run(self, src):\n",
    "        \"\"\"\n",
    "        Run DFA and return final state.\n",
    "        \n",
    "        Return None if an invalid transition is found.\n",
    "        \"\"\"\n",
    "        state = self.start_state\n",
    "        delta = self.delta\n",
    "        \n",
    "        for symb in src:\n",
    "            try:\n",
    "                state = delta(state, symb)\n",
    "            except TransitionError:\n",
    "                return None\n",
    "        return state\n",
    "    \n",
    "    def accept(self, src):\n",
    "        \"\"\"\n",
    "        Checks if DFA accepts input.\n",
    "        \"\"\"\n",
    "        state = self.start_state\n",
    "        delta = self.delta\n",
    "        try:\n",
    "            for symb in src:\n",
    "                state = delta(state, symb)\n",
    "        except TransitionError:\n",
    "            return False\n",
    "        return state in self.accept_states"
   ]
  },
  {
   "cell_type": "code",
   "execution_count": 33,
   "metadata": {},
   "outputs": [
    {
     "data": {
      "text/plain": [
       "False"
      ]
     },
     "execution_count": 33,
     "metadata": {},
     "output_type": "execute_result"
    }
   ],
   "source": [
    "dfa = DFA('a', {'c'}, {('a', 'A'): 'b', ('b', 'A'): 'c', ('c', 'A'): 'c'})\n",
    "dfa.accept('AAB')"
   ]
  },
  {
   "cell_type": "code",
   "execution_count": 61,
   "metadata": {},
   "outputs": [],
   "source": [
    "class NFA:\n",
    "    \"\"\"\n",
    "    Representa um Autömato Determinístico Finito.\n",
    "    \"\"\"\n",
    "    \n",
    "    def __init__(self, start_state, accept_states, transition=None):\n",
    "        self.start_state = start_state\n",
    "        self.accept_states = set(accept_states)\n",
    "        \n",
    "        if transition is None:\n",
    "            transition = self.delta\n",
    "        if callable(transition):\n",
    "            self.delta = transition\n",
    "        elif isinstance(transition, Mapping):\n",
    "            def delta(state, symb): \n",
    "                try:\n",
    "                    return transition[state, symb]\n",
    "                except KeyError:\n",
    "                    raise TransitionError(f'No transition defined for transition: {state}, {symb}')\n",
    "                    \n",
    "            self.delta = delta\n",
    "            \n",
    "    def run_verbose(self, src, print=print):\n",
    "        \"\"\"\n",
    "        Run NFA and display its path on state space.\n",
    "        \"\"\"\n",
    "        states = {self.start_state}\n",
    "        delta = self.delta\n",
    "        print('NFA:', states, end='')\n",
    "        \n",
    "        for symb in src:\n",
    "            new_states = set()\n",
    "            for st in states:\n",
    "                try:\n",
    "                    new_states.update(delta(st, symb))\n",
    "                except TransitionError:\n",
    "                    pass\n",
    "            \n",
    "            # Epsilon transitions\n",
    "            epsilon = list(new_states)\n",
    "            while epsilon:\n",
    "                st = epsilon.pop()\n",
    "                try:\n",
    "                    for new in delta(st, None):\n",
    "                        if new not in new_states:\n",
    "                            new_states.add(new)\n",
    "                            epsilon.append(new)\n",
    "                except TransitionError:\n",
    "                    pass\n",
    "                    \n",
    "            states = new_states\n",
    "            print(' -> ', states, end='')\n",
    "        print()\n",
    "        return states\n",
    "    \n",
    "    def run(self, src):\n",
    "        \"\"\"\n",
    "        Run NFA and return final states.\n",
    "        \n",
    "        Return None if an invalid transition is found.\n",
    "        \"\"\"\n",
    "        return self.run_verbose(src, lambda *args, **kwargs: None)\n",
    "    \n",
    "    def accept(self, src):\n",
    "        \"\"\"\n",
    "        Checks if DFA accepts input.\n",
    "        \"\"\"\n",
    "        return bool(self.accept_states.intersection(self.run(src)))"
   ]
  },
  {
   "cell_type": "code",
   "execution_count": 62,
   "metadata": {},
   "outputs": [
    {
     "data": {
      "text/plain": [
       "False"
      ]
     },
     "execution_count": 62,
     "metadata": {},
     "output_type": "execute_result"
    }
   ],
   "source": [
    "nfa = NFA('a', {'c'}, {\n",
    "    ('a', 'A'): {'b'}, \n",
    "    ('b', 'A'): {'c'}, \n",
    "    ('b', None): {'d'}, \n",
    "    ('c', 'A'): {'c'},\n",
    "})\n",
    "nfa.accept('AAB')"
   ]
  },
  {
   "cell_type": "code",
   "execution_count": 63,
   "metadata": {},
   "outputs": [
    {
     "name": "stdout",
     "output_type": "stream",
     "text": [
      "NFA: {'a'} ->  {'d', 'b'} ->  {'c'} ->  {'c'}\n"
     ]
    },
    {
     "data": {
      "text/plain": [
       "{'c'}"
      ]
     },
     "execution_count": 63,
     "metadata": {},
     "output_type": "execute_result"
    }
   ],
   "source": [
    "nfa.run_verbose('AAA')"
   ]
  }
 ],
 "metadata": {
  "kernelspec": {
   "display_name": "Python 3",
   "language": "python",
   "name": "python3"
  },
  "language_info": {
   "codemirror_mode": {
    "name": "ipython",
    "version": 3
   },
   "file_extension": ".py",
   "mimetype": "text/x-python",
   "name": "python",
   "nbconvert_exporter": "python",
   "pygments_lexer": "ipython3",
   "version": "3.7.4"
  }
 },
 "nbformat": 4,
 "nbformat_minor": 2
}
