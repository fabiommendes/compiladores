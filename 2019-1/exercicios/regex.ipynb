{
 "cells": [
  {
   "cell_type": "markdown",
   "metadata": {
    "colab_type": "text",
    "id": "-j_KNIi54Z0L"
   },
   "source": [
    "# Expressões regulares\n",
    "\n",
    "Lista de exercícios, vamos praticar a criação de expressões regulares. O código abaixo testa a expressão regular fornecida comparando o resultado com alguns exemplos positivos e negativos. Cada questão pede um tipo de padrão diferente, verificando o resultado. Também testamos se a expressão regular não possui redundâncias impondo um limite para o tamanho máximo da mesma.\n",
    "\n",
    "Tentem encontrar uma expressão regular válida para cada exercício e depois otimize-a para ficar do mesmo tamanho (ou quem sabe menor) que o limite fornecido."
   ]
  },
  {
   "cell_type": "code",
   "execution_count": 1,
   "metadata": {
    "colab": {},
    "colab_type": "code",
    "id": "LgkNHSFZ4Z0e"
   },
   "outputs": [],
   "source": [
    "import re\n",
    "\n",
    "\n",
    "def test_regex(regex, ok, bad, accept_empty=False):\n",
    "    \"\"\"\n",
    "    Check if regular expression accepts all strings in the \"ok\" set\n",
    "    and refuses all strings in the \"bad\".\n",
    "    \n",
    "    Args:\n",
    "        regex (str): \n",
    "            A string representing a regular expression. \n",
    "        ok (sequence):\n",
    "            A sequence of strings or a single string that will be\n",
    "            split in its spaces.\n",
    "        bad (sequence):\n",
    "            A sequence of strings or a single string that will be\n",
    "            split in its spaces.\n",
    "        accept_empty (bool):\n",
    "            If True, accepts empty strings.\n",
    "    \"\"\"\n",
    "    regex = re.compile(regex)\n",
    "    if isinstance(ok, str):\n",
    "        ok = ok.split()\n",
    "    if isinstance(bad, str):\n",
    "        bad = bad.split()\n",
    "    false_positives = []\n",
    "    false_negatives = []\n",
    "    for test in ok:\n",
    "        if not regex.fullmatch(test):\n",
    "            false_negatives.append(test)\n",
    "    for test in bad:\n",
    "        if regex.fullmatch(test):\n",
    "            false_positives.append(test)\n",
    "    if not accept_empty and regex.fullmatch(''):\n",
    "        false_positives.append('')\n",
    "        \n",
    "    if false_positives or false_negatives:\n",
    "        msg = ['Errors found testing regular expression <%s>:' % regex.pattern]\n",
    "        if false_positives:\n",
    "            msg.extend([\n",
    "                '    The following strings should be REFUSED:',\n",
    "                *('     - %r' % st for st in false_positives)\n",
    "            ])\n",
    "        if  false_negatives:\n",
    "            msg.extend([\n",
    "                '    The following strings should be ACCEPTED:',\n",
    "                *('      - %r' % st for st in false_negatives)\n",
    "            ])\n",
    "        raise AssertionError('\\n'.join(msg))\n",
    "        \n",
    "\n",
    "def test_compact(st, size):\n",
    "    \"\"\"\n",
    "    Check if string at most the given size.\n",
    "    \"\"\"\n",
    "    if len(st) > size:\n",
    "        msg = 'string must be at most {} characters long, got {}.'.format(size, len(st))\n",
    "        raise AssertionError(msg)"
   ]
  },
  {
   "cell_type": "markdown",
   "metadata": {
    "colab_type": "text",
    "id": "lFMoDALE4Z1A"
   },
   "source": [
    "## Questão 1 - inteiros\n",
    "\n",
    "Detecte números inteiros, mas invalide os números com zeros à esquerda."
   ]
  },
  {
   "cell_type": "code",
   "execution_count": 2,
   "metadata": {
    "colab": {},
    "colab_type": "code",
    "id": "fgZxJNlT4Z1F"
   },
   "outputs": [],
   "source": [
    "regex = r'0|[1-9]\\d*'"
   ]
  },
  {
   "cell_type": "code",
   "execution_count": 3,
   "metadata": {
    "colab": {},
    "colab_type": "code",
    "id": "fmeYClvX4Z1X"
   },
   "outputs": [],
   "source": [
    "test_regex(regex, '10  0  12', '0.1  05  .10  a1  0b1  foo')"
   ]
  },
  {
   "cell_type": "code",
   "execution_count": 4,
   "metadata": {
    "colab": {},
    "colab_type": "code",
    "id": "USkgCuNl4Z1l"
   },
   "outputs": [],
   "source": [
    "test_compact(regex, 10)"
   ]
  },
  {
   "cell_type": "markdown",
   "metadata": {
    "colab_type": "text",
    "id": "YbsEPCK94Z1z"
   },
   "source": [
    "## Questão 2 - decimais\n",
    "\n",
    "Detecte números de ponto flutuante com o sinal opcional (não deve aceitar notação científica)."
   ]
  },
  {
   "cell_type": "code",
   "execution_count": 5,
   "metadata": {
    "colab": {},
    "colab_type": "code",
    "id": "1wzvmExx4Z13"
   },
   "outputs": [],
   "source": [
    "regex = r'[+-]?\\d+\\.\\d+'"
   ]
  },
  {
   "cell_type": "code",
   "execution_count": 6,
   "metadata": {
    "colab": {},
    "colab_type": "code",
    "id": "fIE2krBR4Z2K"
   },
   "outputs": [],
   "source": [
    "test_regex(regex, \n",
    "           '1.0  3.14  +1.5  -10.0', \n",
    "           '42  +  .42  42. 40.a  a.b  50p5  1.0e20')"
   ]
  },
  {
   "cell_type": "code",
   "execution_count": 7,
   "metadata": {
    "colab": {},
    "colab_type": "code",
    "id": "_DR_thao4Z2W"
   },
   "outputs": [],
   "source": [
    "test_compact(regex, 13)"
   ]
  },
  {
   "cell_type": "markdown",
   "metadata": {
    "colab_type": "text",
    "id": "ttEmR55b4Z2q"
   },
   "source": [
    "## Questão 3 - datas\n",
    "\n",
    "Detecte datas no formato AAAA-MM-DD. Não é necessário validar se o mês e o dia são válidos."
   ]
  },
  {
   "cell_type": "code",
   "execution_count": 8,
   "metadata": {
    "colab": {},
    "colab_type": "code",
    "id": "ew1g_7hC4Z2x"
   },
   "outputs": [],
   "source": [
    "regex = r'\\d{4}-\\d\\d-\\d\\d'"
   ]
  },
  {
   "cell_type": "code",
   "execution_count": 9,
   "metadata": {
    "colab": {},
    "colab_type": "code",
    "id": "WzqGX_Xk4Z29"
   },
   "outputs": [],
   "source": [
    "test_regex(regex, \n",
    "           '1970-01-01  0001-01-01  1917-11-08', \n",
    "           '1970-1-1  70-1-1  70-01-01  a111-10-10  foob-ar-ba  1900m10d12')"
   ]
  },
  {
   "cell_type": "code",
   "execution_count": 10,
   "metadata": {
    "colab": {},
    "colab_type": "code",
    "id": "FxqEJMBD4Z3L"
   },
   "outputs": [],
   "source": [
    "test_compact(regex, 15)"
   ]
  },
  {
   "cell_type": "markdown",
   "metadata": {
    "colab_type": "text",
    "id": "gj7oEVR44Z3W"
   },
   "source": [
    "## Questão 4 - binários\n",
    "\n",
    "Detecte números binários e hexadecimais no formato 0b10101 ou 0xFab10."
   ]
  },
  {
   "cell_type": "code",
   "execution_count": 11,
   "metadata": {
    "colab": {},
    "colab_type": "code",
    "id": "RvMKSPwb4Z3Y"
   },
   "outputs": [],
   "source": [
    "regex = r'0(b[01]+|x[\\da-fA-F]*)'"
   ]
  },
  {
   "cell_type": "code",
   "execution_count": 12,
   "metadata": {
    "colab": {},
    "colab_type": "code",
    "id": "XMoIvSDw4Z3i"
   },
   "outputs": [],
   "source": [
    "test_regex(regex, \n",
    "           '0b10101  0xafa  0xFE10  0xBeef', \n",
    "           '10101  0d1234  0b12  0xgee')"
   ]
  },
  {
   "cell_type": "code",
   "execution_count": 13,
   "metadata": {
    "colab": {},
    "colab_type": "code",
    "id": "aKwdVx2s4Z3t"
   },
   "outputs": [],
   "source": [
    "test_compact(regex, 22)"
   ]
  },
  {
   "cell_type": "markdown",
   "metadata": {
    "colab_type": "text",
    "id": "lbEvpXkN4Z32"
   },
   "source": [
    "## Questão 5 - inteiros com underscore\n",
    "\n",
    "Algumas linguagens aceitam underscore entre os dígitos de um inteiro para facilitar a visualização (ex.: 2_019). Crie uma expressão regular que identifique este padrão."
   ]
  },
  {
   "cell_type": "code",
   "execution_count": 14,
   "metadata": {
    "colab": {},
    "colab_type": "code",
    "id": "tAmBbvBV4Z36"
   },
   "outputs": [],
   "source": [
    "regex = r'\\d+(_\\d+)*'"
   ]
  },
  {
   "cell_type": "code",
   "execution_count": 15,
   "metadata": {
    "colab": {},
    "colab_type": "code",
    "id": "lNReKUa84Z4B"
   },
   "outputs": [],
   "source": [
    "test_regex(regex, \n",
    "           '42 1_000  1_23_45  6_7_8_9', \n",
    "           '_  4_  _2  1__000  abc')"
   ]
  },
  {
   "cell_type": "code",
   "execution_count": 16,
   "metadata": {
    "colab": {},
    "colab_type": "code",
    "id": "kxxCuMaF4Z4O"
   },
   "outputs": [],
   "source": [
    "test_compact(regex, 10)"
   ]
  },
  {
   "cell_type": "markdown",
   "metadata": {
    "colab_type": "text",
    "id": "ww8v7hFZ4Z4V"
   },
   "source": [
    "## Questão 6 - strings simples\n",
    "\n",
    "Crie uma expressão regular simples que detecte strings. Por enquanto uma string é definida começando com uma \n",
    "aspas dupla, seguida de qualquer número de caracteres que não são aspas duplas e terminando em uma aspas dupla. Ex.: `\"foo bar\"`."
   ]
  },
  {
   "cell_type": "code",
   "execution_count": 24,
   "metadata": {
    "colab": {},
    "colab_type": "code",
    "id": "YCBqjZJG4Z4Z"
   },
   "outputs": [],
   "source": [
    "regex = r'\"[^\"]*\"'"
   ]
  },
  {
   "cell_type": "code",
   "execution_count": 25,
   "metadata": {
    "colab": {},
    "colab_type": "code",
    "id": "g292wCO-4Z4j"
   },
   "outputs": [],
   "source": [
    "test_regex(regex, \n",
    "           r'\"foo bar\"  \"\"  \"foo\\nbar\"'.split('  '), \n",
    "           '\"foo\\\\\"bar\"  foo  \"  \"foo\"a'.split('  '))"
   ]
  },
  {
   "cell_type": "code",
   "execution_count": 26,
   "metadata": {
    "colab": {},
    "colab_type": "code",
    "id": "-Tg8PpvV4Z4q"
   },
   "outputs": [],
   "source": [
    "test_compact(regex, 7)"
   ]
  },
  {
   "cell_type": "markdown",
   "metadata": {
    "colab_type": "text",
    "id": "RVlbeivF4Z42"
   },
   "source": [
    "## Questão 7 - strings com escape\n",
    "\n",
    "Complemente o exercício anterior e crie um padrão que aceite escape das aspas no interior da string. Ex.: `\"foo \\\"bar\\\"!\"`"
   ]
  },
  {
   "cell_type": "code",
   "execution_count": 42,
   "metadata": {
    "colab": {},
    "colab_type": "code",
    "id": "KqWHPMBs4Z43"
   },
   "outputs": [],
   "source": [
    "regex = r'\"(\\w|\\\\\"| )*\"'"
   ]
  },
  {
   "cell_type": "code",
   "execution_count": 43,
   "metadata": {
    "colab": {},
    "colab_type": "code",
    "id": "R-F_6P3J4Z5B"
   },
   "outputs": [],
   "source": [
    "test_regex(regex, \n",
    "           r'\"foo bar\"  \"\"  \"foo\\\"bar\\\"\"  \"\\\"\\\"\"'.split('  '), \n",
    "           r'\"foo\"bar\"  \"\\\"  foo  \"  \"foo\"a'.split('  '))"
   ]
  },
  {
   "cell_type": "code",
   "execution_count": 44,
   "metadata": {
    "colab": {},
    "colab_type": "code",
    "id": "XQfIq2od4Z5R"
   },
   "outputs": [],
   "source": [
    "test_compact(regex, 16)"
   ]
  },
  {
   "cell_type": "markdown",
   "metadata": {
    "colab_type": "text",
    "id": "VE-zVZAw4Z5X"
   },
   "source": [
    "## Questão 8 - strings sem quebra de linha\n",
    "\n",
    "Agora proíba a existência de quebras de linha (`\\n`) no interior da string. "
   ]
  },
  {
   "cell_type": "code",
   "execution_count": 48,
   "metadata": {
    "colab": {},
    "colab_type": "code",
    "id": "qk5v-RX64Z5Y"
   },
   "outputs": [],
   "source": [
    "regex = r'\"((?!\\n)|\\w|\\\\\"| )*\"'"
   ]
  },
  {
   "cell_type": "code",
   "execution_count": 49,
   "metadata": {
    "colab": {},
    "colab_type": "code",
    "id": "5JUTe-ju4Z5d"
   },
   "outputs": [],
   "source": [
    "test_regex(regex, \n",
    "           r'\"foo bar\"  \"\"  \"foo\\\"bar\\\"\"  \"\\\"\\\"\"'.split('  '), \n",
    "           '\"foo\\nbar\"  \"\\\\\"  \"foo\\\"\\nbar\"  \"foo\"bar\"  foo  \"  \"foo\"a'.split('  '))"
   ]
  },
  {
   "cell_type": "code",
   "execution_count": 50,
   "metadata": {
    "colab": {},
    "colab_type": "code",
    "id": "Gh538irA4Z5k"
   },
   "outputs": [],
   "source": [
    "test_compact(regex, 21)"
   ]
  },
  {
   "cell_type": "markdown",
   "metadata": {
    "colab_type": "text",
    "id": "gPT_Tc8v4Z5t"
   },
   "source": [
    "## Questão 9 - strings com escapes específicos.\n",
    "\n",
    "Consulte a especificação de strings JSON no site http://json.org e aceite apenas as regras de escape listas explicitamente na especificicação. Para este exercício, ignore a última cláusula de escape com `\\u hex hex hex hex`."
   ]
  },
  {
   "cell_type": "code",
   "execution_count": 0,
   "metadata": {
    "colab": {},
    "colab_type": "code",
    "id": "O7Fhn_N54Z5x"
   },
   "outputs": [],
   "source": [
    "regex = r'...'"
   ]
  },
  {
   "cell_type": "code",
   "execution_count": 0,
   "metadata": {
    "colab": {},
    "colab_type": "code",
    "id": "IjUOGKVg4Z54"
   },
   "outputs": [],
   "source": [
    "test_regex(regex, \n",
    "           r'\"foo bar\"  \"\"  \"\\n\"  \"foo\\\"bar\\\"\"  \"\\\"\\\"\"'.split('  '), \n",
    "           '\"\\\\d\"  \"\\\\\"  \"\\\\u\"  \"foo\\nbar\"  \"foo\\\"\\nbar\"  \"foo\"bar\"  foo  \"  \"foo\"a'.split('  '))"
   ]
  },
  {
   "cell_type": "code",
   "execution_count": 0,
   "metadata": {
    "colab": {},
    "colab_type": "code",
    "id": "_bxgMig34Z5_"
   },
   "outputs": [],
   "source": [
    "test_compact(regex, 34)"
   ]
  },
  {
   "cell_type": "markdown",
   "metadata": {
    "colab_type": "text",
    "id": "y1n4F67k4Z6F"
   },
   "source": [
    "## Questão 10 - strings JSON\n",
    "\n",
    "Complete a implementação da especificação do json.org e aceite os codepoints unicode"
   ]
  },
  {
   "cell_type": "code",
   "execution_count": 0,
   "metadata": {
    "colab": {},
    "colab_type": "code",
    "id": "iHLR36hU4Z6H"
   },
   "outputs": [],
   "source": [
    "regex = r'...'"
   ]
  },
  {
   "cell_type": "code",
   "execution_count": 0,
   "metadata": {
    "colab": {},
    "colab_type": "code",
    "id": "FnWRYL1Q4Z6M"
   },
   "outputs": [],
   "source": [
    "test_regex(regex, \n",
    "           r'\"foo bar\"  \"\\u2204\"  \"\"  \"foo\\\"bar\\\"\"  \"\\\"\\\"\"'.split('  '), \n",
    "           '\"foo\\nbar\" \"\" \"\\\\ub\" \"\\\\\"  \"foo\\\"\\nbar\"  \"foo\"bar\"  foo  \"  \"foo\"a'.split('  '))"
   ]
  },
  {
   "cell_type": "code",
   "execution_count": 0,
   "metadata": {
    "colab": {},
    "colab_type": "code",
    "id": "uIhd6ynZ4Z6R"
   },
   "outputs": [],
   "source": [
    "test_compact(regex, 52)"
   ]
  },
  {
   "cell_type": "markdown",
   "metadata": {
    "colab_type": "text",
    "id": "Sp6UnL0X4Z6W"
   },
   "source": [
    "## Questão 11 - grupos de captura\n",
    "\n",
    "Modifique a expressão regular para detecção de anos e faça com que ela entenda grupos de captura para os campos\n",
    "`year`, `month` e `day`. Desta forma, um objecto de `match` sobre a string `1914-06-28` deveria resultar no dicionário `{'year': '1914', 'month': '06', 'day': '28'}`."
   ]
  },
  {
   "cell_type": "code",
   "execution_count": 0,
   "metadata": {
    "colab": {},
    "colab_type": "code",
    "id": "EoEvLg8D4Z6Y"
   },
   "outputs": [],
   "source": [
    "regex = r'...'"
   ]
  },
  {
   "cell_type": "code",
   "execution_count": 0,
   "metadata": {
    "colab": {},
    "colab_type": "code",
    "id": "urVNdk7c4Z6d"
   },
   "outputs": [],
   "source": [
    "test_regex(regex, \n",
    "           '1970-01-01  0001-01-01  1917-11-08', \n",
    "           '1970-1-1  70-1-1  70-01-01  a111-10-10  foob-ar-ba  1900m10d12')"
   ]
  },
  {
   "cell_type": "code",
   "execution_count": 0,
   "metadata": {
    "colab": {},
    "colab_type": "code",
    "id": "xIMVOMWC4Z6i"
   },
   "outputs": [],
   "source": [
    "re_obj = re.compile(regex)\n",
    "msg = 'Assassination of Franz Ferdinand: 1914-06-28.'\n",
    "assert re_obj.search(msg).groupdict() == {'year': '1914', 'month': '06', 'day': '28'}"
   ]
  },
  {
   "cell_type": "code",
   "execution_count": 0,
   "metadata": {
    "colab": {},
    "colab_type": "code",
    "id": "RMb-zrna4Z6l"
   },
   "outputs": [],
   "source": [
    "test_compact(regex, 45)"
   ]
  }
 ],
 "metadata": {
  "colab": {
   "name": "Copy of regex.ipynb",
   "provenance": [],
   "version": "0.3.2"
  },
  "kernelspec": {
   "display_name": "Python 3",
   "language": "python",
   "name": "python3"
  },
  "language_info": {
   "codemirror_mode": {
    "name": "ipython",
    "version": 3
   },
   "file_extension": ".py",
   "mimetype": "text/x-python",
   "name": "python",
   "nbconvert_exporter": "python",
   "pygments_lexer": "ipython3",
   "version": "3.5.2"
  }
 },
 "nbformat": 4,
 "nbformat_minor": 1
}
